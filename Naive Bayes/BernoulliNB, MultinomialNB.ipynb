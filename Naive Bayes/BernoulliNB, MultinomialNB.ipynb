{
 "cells": [
  {
   "cell_type": "code",
   "execution_count": 1,
   "metadata": {
    "collapsed": true
   },
   "outputs": [],
   "source": [
    "import numpy as np\n",
    "from sklearn.naive_bayes import BernoulliNB, MultinomialNB\n",
    "from sklearn.datasets import fetch_20newsgroups_vectorized\n",
    "from sklearn import metrics"
   ]
  },
  {
   "cell_type": "code",
   "execution_count": 2,
   "metadata": {
    "collapsed": true
   },
   "outputs": [],
   "source": [
    "#Original Vector\n",
    "news_train = fetch_20newsgroups_vectorized(subset='train')\n",
    "news_test = fetch_20newsgroups_vectorized(subset='test')\n",
    "\n",
    "#Strip Out Metadata\n",
    "remove = ('headers', 'footers', 'quotes')\n",
    "news_train_rm = fetch_20newsgroups_vectorized(subset='train', remove=remove)\n",
    "news_test_rm = fetch_20newsgroups_vectorized(subset='test', remove=remove)"
   ]
  },
  {
   "cell_type": "code",
   "execution_count": 3,
   "metadata": {},
   "outputs": [
    {
     "name": "stdout",
     "output_type": "stream",
     "text": [
      "Data keys:  ['data', 'target', 'target_names']\n"
     ]
    }
   ],
   "source": [
    "print(\"Data keys: \", [key  for key in news_train.keys()])"
   ]
  },
  {
   "cell_type": "code",
   "execution_count": 4,
   "metadata": {},
   "outputs": [
    {
     "name": "stdout",
     "output_type": "stream",
     "text": [
      "[17  7 10 ..., 14 12 11]\n",
      "(11314,)\n"
     ]
    }
   ],
   "source": [
    "print(news_train.target)\n",
    "print(news_train.target.shape)"
   ]
  },
  {
   "cell_type": "code",
   "execution_count": 5,
   "metadata": {},
   "outputs": [
    {
     "name": "stdout",
     "output_type": "stream",
     "text": [
      "  (0, 5022)\t0.0171096477707\n",
      "  (0, 5886)\t0.0171096477707\n",
      "  (0, 6214)\t0.0171096477707\n",
      "  (0, 6216)\t0.0171096477707\n",
      "  (0, 6281)\t0.0171096477707\n",
      "  (0, 6286)\t0.0171096477707\n",
      "  (0, 6324)\t0.0171096477707\n",
      "  (0, 6331)\t0.0171096477707\n",
      "  (0, 6403)\t0.0171096477707\n",
      "  (0, 11391)\t0.0171096477707\n",
      "  (0, 13930)\t0.0171096477707\n",
      "  (0, 15094)\t0.0171096477707\n",
      "  (0, 15251)\t0.0171096477707\n",
      "  (0, 15530)\t0.0171096477707\n",
      "  (0, 16731)\t0.0171096477707\n",
      "  (0, 20228)\t0.0171096477707\n",
      "  (0, 26214)\t0.0171096477707\n",
      "  (0, 26806)\t0.0171096477707\n",
      "  (0, 27436)\t0.0171096477707\n",
      "  (0, 27618)\t0.0171096477707\n",
      "  (0, 27645)\t0.0171096477707\n",
      "  (0, 27901)\t0.0171096477707\n",
      "  (0, 28012)\t0.0513289433122\n",
      "  (0, 28146)\t0.410631546497\n",
      "  (0, 28421)\t0.0342192955415\n",
      "  :\t:\n",
      "  (11313, 115133)\t0.0355559067267\n",
      "  (11313, 115475)\t0.426670880721\n",
      "  (11313, 115816)\t0.0355559067267\n",
      "  (11313, 118561)\t0.0355559067267\n",
      "  (11313, 118842)\t0.10666772018\n",
      "  (11313, 118983)\t0.0711118134535\n",
      "  (11313, 119701)\t0.0355559067267\n",
      "  (11313, 119741)\t0.0355559067267\n",
      "  (11313, 121278)\t0.10666772018\n",
      "  (11313, 121667)\t0.0711118134535\n",
      "  (11313, 121837)\t0.0355559067267\n",
      "  (11313, 121999)\t0.0355559067267\n",
      "  (11313, 123198)\t0.0355559067267\n",
      "  (11313, 123211)\t0.0355559067267\n",
      "  (11313, 123759)\t0.0355559067267\n",
      "  (11313, 123796)\t0.0355559067267\n",
      "  (11313, 124103)\t0.0355559067267\n",
      "  (11313, 124198)\t0.0355559067267\n",
      "  (11313, 124616)\t0.0711118134535\n",
      "  (11313, 125271)\t0.0355559067267\n",
      "  (11313, 128026)\t0.0355559067267\n",
      "  (11313, 128084)\t0.0355559067267\n",
      "  (11313, 128402)\t0.10666772018\n",
      "  (11313, 128420)\t0.0355559067267\n",
      "  (11313, 128436)\t0.0355559067267\n",
      "(11314, 130107)\n"
     ]
    }
   ],
   "source": [
    "print(news_train.data)\n",
    "print(news_train.data.shape)"
   ]
  },
  {
   "cell_type": "code",
   "execution_count": 9,
   "metadata": {},
   "outputs": [
    {
     "name": "stdout",
     "output_type": "stream",
     "text": [
      "[alpha=0.0001]Train Set Accuracy: 0.998\n",
      "[alpha=0.0001]Test Set Accuracy: 0.826\n",
      "[alpha=0.0001]F1 Score: 0.820\n",
      "\n",
      "[alpha=0.0003]Train Set Accuracy: 0.998\n",
      "[alpha=0.0003]Test Set Accuracy: 0.831\n",
      "[alpha=0.0003]F1 Score: 0.825\n",
      "\n",
      "[alpha=0.001]Train Set Accuracy: 0.997\n",
      "[alpha=0.001]Test Set Accuracy: 0.833\n",
      "[alpha=0.001]F1 Score: 0.826\n",
      "\n",
      "[alpha=0.003]Train Set Accuracy: 0.995\n",
      "[alpha=0.003]Test Set Accuracy: 0.837\n",
      "[alpha=0.003]F1 Score: 0.829\n",
      "\n",
      "[alpha=0.01]Train Set Accuracy: 0.990\n",
      "[alpha=0.01]Test Set Accuracy: 0.835\n",
      "[alpha=0.01]F1 Score: 0.825\n",
      "\n",
      "[alpha=0.03]Train Set Accuracy: 0.977\n",
      "[alpha=0.03]Test Set Accuracy: 0.825\n",
      "[alpha=0.03]F1 Score: 0.810\n",
      "\n",
      "[alpha=0.1]Train Set Accuracy: 0.951\n",
      "[alpha=0.1]Test Set Accuracy: 0.803\n",
      "[alpha=0.1]F1 Score: 0.780\n",
      "\n",
      "[alpha=0.3]Train Set Accuracy: 0.913\n",
      "[alpha=0.3]Test Set Accuracy: 0.768\n",
      "[alpha=0.3]F1 Score: 0.736\n",
      "\n",
      "[alpha=1.0]Train Set Accuracy: 0.844\n",
      "[alpha=1.0]Test Set Accuracy: 0.705\n",
      "[alpha=1.0]F1 Score: 0.673\n",
      "\n"
     ]
    }
   ],
   "source": [
    "alpha_list = [1e-4,3e-4,1e-3, 3e-3, 0.01, 0.03, 0.1, 0.3, 1.0]\n",
    "for alpha in alpha_list:\n",
    "    mnb = MultinomialNB(alpha=alpha).fit(news_train.data, news_train.target)\n",
    "\n",
    "    pred = mnb.predict(news_test.data)\n",
    "\n",
    "    print(\"[alpha={}]Train Set Accuracy: {:.3f}\".format(alpha, mnb.score(news_train.data, news_train.target)))\n",
    "    print(\"[alpha={}]Test Set Accuracy: {:.3f}\".format(alpha, mnb.score(news_test.data, news_test.target)))\n",
    "    print(\"[alpha={}]F1 Score: {:.3f}\\n\".format(alpha, metrics.f1_score(news_test.target, pred, average='macro')))"
   ]
  },
  {
   "cell_type": "code",
   "execution_count": 10,
   "metadata": {},
   "outputs": [
    {
     "name": "stdout",
     "output_type": "stream",
     "text": [
      "[alpha=0.0001]Train Set Accuracy: 0.959\n",
      "[alpha=0.0001]Test Set Accuracy: 0.678\n",
      "[alpha=0.0001]F1 Score: 0.659\n",
      "\n",
      "[alpha=0.0003]Train Set Accuracy: 0.958\n",
      "[alpha=0.0003]Test Set Accuracy: 0.684\n",
      "[alpha=0.0003]F1 Score: 0.666\n",
      "\n",
      "[alpha=0.001]Train Set Accuracy: 0.956\n",
      "[alpha=0.001]Test Set Accuracy: 0.689\n",
      "[alpha=0.001]F1 Score: 0.670\n",
      "\n",
      "[alpha=0.003]Train Set Accuracy: 0.953\n",
      "[alpha=0.003]Test Set Accuracy: 0.692\n",
      "[alpha=0.003]F1 Score: 0.672\n",
      "\n",
      "[alpha=0.01]Train Set Accuracy: 0.941\n",
      "[alpha=0.01]Test Set Accuracy: 0.690\n",
      "[alpha=0.01]F1 Score: 0.665\n",
      "\n",
      "[alpha=0.03]Train Set Accuracy: 0.914\n",
      "[alpha=0.03]Test Set Accuracy: 0.674\n",
      "[alpha=0.03]F1 Score: 0.644\n",
      "\n",
      "[alpha=0.1]Train Set Accuracy: 0.856\n",
      "[alpha=0.1]Test Set Accuracy: 0.638\n",
      "[alpha=0.1]F1 Score: 0.604\n",
      "\n",
      "[alpha=0.3]Train Set Accuracy: 0.779\n",
      "[alpha=0.3]Test Set Accuracy: 0.583\n",
      "[alpha=0.3]F1 Score: 0.555\n",
      "\n",
      "[alpha=1.0]Train Set Accuracy: 0.647\n",
      "[alpha=1.0]Test Set Accuracy: 0.480\n",
      "[alpha=1.0]F1 Score: 0.472\n",
      "\n"
     ]
    },
    {
     "name": "stderr",
     "output_type": "stream",
     "text": [
      "/home/cofeal/anaconda3/lib/python3.6/site-packages/sklearn/metrics/classification.py:1113: UndefinedMetricWarning: F-score is ill-defined and being set to 0.0 in labels with no predicted samples.\n",
      "  'precision', 'predicted', average, warn_for)\n"
     ]
    }
   ],
   "source": [
    "for alpha in alpha_list:\n",
    "    mnb_rm = MultinomialNB(alpha=alpha).fit(news_train_rm.data, news_train_rm.target)\n",
    "\n",
    "    pred_rm = mnb_rm.predict(news_test_rm.data)\n",
    "\n",
    "    print(\"[alpha={}]Train Set Accuracy: {:.3f}\".format(alpha, \n",
    "                                                        np.mean(news_train_rm.target == mnb_rm.predict(news_train_rm.data))))#mnb score raise dimension error\n",
    "    print(\"[alpha={}]Test Set Accuracy: {:.3f}\".format(alpha, \n",
    "                                                       np.mean(news_test_rm.target == pred_rm)))\n",
    "    print(\"[alpha={}]F1 Score: {:.3f}\\n\".format(alpha, \n",
    "                                              metrics.f1_score(news_test_rm.target, pred_rm, average='macro')))"
   ]
  },
  {
   "cell_type": "code",
   "execution_count": null,
   "metadata": {
    "collapsed": true
   },
   "outputs": [],
   "source": []
  }
 ],
 "metadata": {
  "kernelspec": {
   "display_name": "Python 3",
   "language": "python",
   "name": "python3"
  },
  "language_info": {
   "codemirror_mode": {
    "name": "ipython",
    "version": 3
   },
   "file_extension": ".py",
   "mimetype": "text/x-python",
   "name": "python",
   "nbconvert_exporter": "python",
   "pygments_lexer": "ipython3",
   "version": "3.6.1"
  }
 },
 "nbformat": 4,
 "nbformat_minor": 2
}
